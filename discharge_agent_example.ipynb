{
 "cells": [
  {
   "cell_type": "markdown",
   "id": "92913acd",
   "metadata": {},
   "source": [
    "# 1. Load synthetic notes"
   ]
  },
  {
   "cell_type": "code",
   "execution_count": null,
   "id": "397f45d2",
   "metadata": {},
   "outputs": [],
   "source": [
    "import pandas as pd\n",
    "import json\n",
    "\n",
    "df = pd.read_csv(\"data/synthetic_notes.csv\")"
   ]
  },
  {
   "cell_type": "markdown",
   "id": "53f61731",
   "metadata": {},
   "source": [
    "# 2. Extract data from our notes\n",
    "Code for [I Ran OpenAI’s New Open Model on My Laptop to Extract Medical Data — Here’s What Happened](https://medium.com/towards-artificial-intelligence/i-ran-openais-new-open-model-on-my-laptop-to-extract-medical-data-here-s-what-happened-aeb6acddfede)\n",
    "\n",
    "Updated for [New article]()"
   ]
  },
  {
   "cell_type": "code",
   "execution_count": 3,
   "id": "71e5d8a6",
   "metadata": {},
   "outputs": [
    {
     "name": "stdout",
     "output_type": "stream",
     "text": [
      "Note 5 attempt 1 failed: Extra data: line 1 column 1204 (char 1203)\n",
      "Note 6 attempt 1 failed: Extra data: line 1 column 1265 (char 1264)\n",
      "\n",
      "=== Extraction Evaluation ===\n",
      "Processed: 10\n",
      "Valid JSON: 10\n",
      "Invalid JSON (after retries): 0\n",
      "Success rate: 100.0%\n"
     ]
    }
   ],
   "source": [
    "from discharge_agent.extractions.extraction import run_extraction_with_json_evaluation\n",
    "\n",
    "# Updated extraction to run on the full dataframe with retries if JSON format is not correct\n",
    "\n",
    "results, summary = run_extraction_with_json_evaluation(df, text_col=\"note_text\", max_retries=3)"
   ]
  },
  {
   "cell_type": "markdown",
   "id": "9e8d0bd8",
   "metadata": {},
   "source": [
    "## Format the output for the tool use evaluation"
   ]
  },
  {
   "cell_type": "code",
   "execution_count": 2,
   "id": "a42e470c",
   "metadata": {},
   "outputs": [],
   "source": [
    "from discharge_agent.llm.prompts import get_messages\n",
    "import json\n",
    "# Create dataset for evaluation\n",
    "with open(\"data/processed_notes/tool_evaluation_samples_v2.jsonl\", \"w\") as f:\n",
    "    for result in results:\n",
    "        messages = get_messages(result)\n",
    "        case_sample = {\n",
    "            \"system\": messages[0]['content'],\n",
    "            \"user\": messages[1]['content'],\n",
    "            \"result_json\": result\n",
    "        }\n",
    "        f.write(json.dumps(case_sample) + \"\\n\")\n"
   ]
  },
  {
   "cell_type": "markdown",
   "id": "da1a7a7f",
   "metadata": {},
   "source": [
    "# 3. Run discharge checks\n",
    "Demo code for [I Built a Local Clinical AI Agent from Scratch - Here's How]()"
   ]
  },
  {
   "cell_type": "code",
   "execution_count": 1,
   "id": "87c4c00b",
   "metadata": {},
   "outputs": [],
   "source": [
    "import json\n",
    "\n",
    "with open(\"data/processed_notes/upper_gi_bleed.json\", \"r\") as f:\n",
    "    result_json = json.load(f)"
   ]
  },
  {
   "cell_type": "code",
   "execution_count": 5,
   "id": "2520d39a",
   "metadata": {},
   "outputs": [
    {
     "name": "stdout",
     "output_type": "stream",
     "text": [
      "{'function': {'name': 'flag_labs', 'arguments': {'labs': [{'date': '2024-08-24', 'name': 'Hgb', 'value': '10.2'}, {'date': '2024-08-24', 'name': 'Hct', 'value': '31%'}, {'date': '2024-08-24', 'name': 'Plt', 'value': '245'}, {'date': '2024-08-24', 'name': 'BUN', 'value': '25'}, {'date': '2024-08-24', 'name': 'Cr', 'value': '1.1'}]}}}\n",
      "{'function': {'name': 'umls_normalize', 'arguments': {'terms': ['Upper gastrointestinal bleeding', 'duodenal ulcer', 'acute blood loss anemia']}}}\n",
      "{'function': {'name': 'followup_gap', 'arguments': {'appts': [{'date': '2024-09-05', 'provider': 'Andrew Peterson', 'specialty': 'GI', 'time': '2:15 PM'}, {'date': '2024-10-18', 'provider': '', 'specialty': '', 'time': '11:00 AM'}], 'discharge_date': '2024-08-25'}}}\n",
      "{ \"ready\": false, \"reasons\": [\"Abnormal labs: Hgb low, Hct low, BUN high\", \"Follow-up appointment >7 days\"], \"summary\": { \"labs\": { \"abnormal\": [ { \"name_input\": \"Hgb\", \"name_norm\": \"hemoglobin\", \"value\": \"10.2\", \"value_num\": 10.2, \"ref_range\": \"12.0-16.0\", \"status\": \"low\" }, { \"name_input\": \"Hct\", \"name_norm\": \"hematocrit\", \"value\": \"31%\", \"value_num\": 31.0, \"ref_range\": \"36.0-50.0\", \"status\": \"low\" }, { \"name_input\": \"BUN\", \"name_norm\": \"bun\", \"value\": \"25\", \"value_num\": 25.0, \"ref_range\": \"7.0-24.0\", \"status\": \"high\" } ], \"ok\": false }, \"followup\": { \"days_to_earliest_followup\": 11, \"meets_goal\": false }, \"meds\": { \"new_medications\": [ { \"name\": \"Omeprazole\", \"dose\": \"40mg\", \"frequency\": \"PO BID\" }, { \"name\": \"Sucralfate\", \"dose\": \"1g\", \"frequency\": \"PO QID\" }, { \"name\": \"Iron sulfate\", \"dose\": \"325mg\", \"frequency\": \"PO daily\" }, { \"name\": \"Acetaminophen\", \"dose\": \"650mg\", \"frequency\": \"PO Q6H PRN pain\" } ], \"dose_changes\": [] }, \"diagnoses\": { \"diagnoses\": [ { \"input\": \"Upper gastrointestinal bleeding\", \"cui\": \"C0041909\", \"pref_name\": \"Upper gastrointestinal hemorrhage\", \"semantic_types\": [ \"Pathologic Function\" ] }, { \"input\": \"duodenal ulcer\", \"cui\": \"C0013295\", \"pref_name\": \"Duodenal Ulcer\", \"semantic_types\": [ \"Disease or Syndrome\" ] }, { \"input\": \"acute blood loss anemia\", \"cui\": \"C0154286\", \"pref_name\": \"Iron deficiency anemia secondary to chronic blood loss\", \"semantic_types\": [ \"Disease or Syndrome\" ] } ] } } }\n"
     ]
    }
   ],
   "source": [
    "from discharge_agent.pipelines.discharge_checker import check_discharge_safety\n",
    "from discharge_agent.llm.prompts import get_messages\n",
    "\n",
    "messages = get_messages(result_json)\n",
    "final = check_discharge_safety(messages)"
   ]
  },
  {
   "cell_type": "markdown",
   "id": "3728a89f",
   "metadata": {},
   "source": [
    "# 4. Run tool use evaluation\n",
    "Demo code for [New blog]()"
   ]
  },
  {
   "cell_type": "code",
   "execution_count": null,
   "id": "64b51b36",
   "metadata": {},
   "outputs": [
    {
     "name": "stdout",
     "output_type": "stream",
     "text": [
      "\n",
      "=== Tool Use Evaluation ===\n",
      "Tool              Should    Used    Use%      OK     OK%    p50 ms    p95 ms\n",
      "flag_labs              9       1     11%       1    100%       0.2       0.2\n",
      "followup_gap          10       8     80%       8    100%       0.3       0.6\n",
      "umls_normalize        10       9     90%       9    100%     371.5     390.3\n"
     ]
    }
   ],
   "source": [
    "from discharge_agent.evaluation.evaluate_tool_use import run_tool_eval\n",
    "\n",
    "run_tool_eval(\"data/processed_notes/tool_evaluation_samples.jsonl\")"
   ]
  },
  {
   "cell_type": "code",
   "execution_count": 1,
   "id": "53bb70e6",
   "metadata": {},
   "outputs": [
    {
     "name": "stdout",
     "output_type": "stream",
     "text": [
      "\n",
      "=== Tool Use Evaluation ===\n",
      "Tool              Should    Used    Use%      OK     OK%    p50 ms    p95 ms\n",
      "flag_labs              9      10    111%      10    100%       0.1       0.2\n",
      "followup_gap          10      10    100%      10    100%       0.3       0.5\n",
      "umls_normalize        10      10    100%      10    100%     752.3    2307.8\n"
     ]
    }
   ],
   "source": [
    "from discharge_agent.evaluation.evaluate_tool_use import run_tool_eval\n",
    "\n",
    "discharge_eval_results = run_tool_eval(\"data/processed_notes/tool_evaluation_samples_v2.jsonl\")"
   ]
  },
  {
   "cell_type": "code",
   "execution_count": null,
   "id": "c924c5af",
   "metadata": {},
   "outputs": [
    {
     "data": {
      "text/plain": [
       "{'ready': False,\n",
       " 'reasons': ['Hemoglobin low (9.2) indicating anemia.',\n",
       "  'Scheduled follow-up is 14 days after discharge, exceeding 7-day guideline.'],\n",
       " 'summary': {'labs': {'abnormal': [{'name_input': 'Hemoglobin',\n",
       "     'name_norm': 'hemoglobin',\n",
       "     'value': '9.2',\n",
       "     'value_num': 9.2,\n",
       "     'ref_range': '12.0-16.0',\n",
       "     'status': 'low'}],\n",
       "   'ok': False},\n",
       "  'followup': {'days_to_earliest_followup': 14, 'meets_goal': False},\n",
       "  'meds': {'new_medications': [{'name': 'Oxycodone',\n",
       "     'dose': '5mg',\n",
       "     'frequency': 'Q4H PRN pain'},\n",
       "    {'name': 'Acetaminophen', 'dose': '650mg', 'frequency': 'Q6H'},\n",
       "    {'name': 'Docusate', 'dose': '100mg', 'frequency': 'BID'}],\n",
       "   'dose_changes': [{'name': 'Calcium carbonate',\n",
       "     'old_dose': '500mg',\n",
       "     'new_dose': '1200mg',\n",
       "     'frequency': 'daily'},\n",
       "    {'name': 'Vitamin D3',\n",
       "     'old_dose': '1000u',\n",
       "     'new_dose': '2000u',\n",
       "     'frequency': 'daily'}]},\n",
       "  'diagnoses': [{'input': 'femoral neck fracture',\n",
       "    'cui': 'C0015806',\n",
       "    'pref_name': 'Femoral Neck Fractures',\n",
       "    'semantic_types': ['Injury or Poisoning']}]}}"
      ]
     },
     "execution_count": 6,
     "metadata": {},
     "output_type": "execute_result"
    }
   ],
   "source": [
    "json.loads(discharge_eval_results[0])"
   ]
  },
  {
   "cell_type": "code",
   "execution_count": null,
   "id": "f014e797",
   "metadata": {},
   "outputs": [],
   "source": []
  }
 ],
 "metadata": {
  "kernelspec": {
   "display_name": "local_ai_medium",
   "language": "python",
   "name": "python3"
  },
  "language_info": {
   "codemirror_mode": {
    "name": "ipython",
    "version": 3
   },
   "file_extension": ".py",
   "mimetype": "text/x-python",
   "name": "python",
   "nbconvert_exporter": "python",
   "pygments_lexer": "ipython3",
   "version": "3.13.5"
  }
 },
 "nbformat": 4,
 "nbformat_minor": 5
}
