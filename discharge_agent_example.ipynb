{
 "cells": [
  {
   "cell_type": "markdown",
   "id": "92913acd",
   "metadata": {},
   "source": [
    "# 1. Load synthetic notes"
   ]
  },
  {
   "cell_type": "code",
   "execution_count": null,
   "id": "397f45d2",
   "metadata": {},
   "outputs": [],
   "source": [
    "import pandas as pd\n",
    "import json\n",
    "\n",
    "df = pd.read_csv(\"data/synthetic_notes.csv\")"
   ]
  },
  {
   "cell_type": "markdown",
   "id": "53f61731",
   "metadata": {},
   "source": [
    "# 2. Extract data from our notes\n",
    "Code for [I Ran OpenAI’s New Open Model on My Laptop to Extract Medical Data — Here’s What Happened](https://medium.com/towards-artificial-intelligence/i-ran-openais-new-open-model-on-my-laptop-to-extract-medical-data-here-s-what-happened-aeb6acddfede)"
   ]
  },
  {
   "cell_type": "code",
   "execution_count": 23,
   "id": "71e5d8a6",
   "metadata": {},
   "outputs": [],
   "source": [
    "from discharge_agent.extractions.extraction import extract_clinical_information\n",
    "\n",
    "results = extract_clinical_information(df['note_text'][2])"
   ]
  },
  {
   "cell_type": "code",
   "execution_count": 24,
   "id": "ec6a3ebd",
   "metadata": {},
   "outputs": [],
   "source": [
    "result_json = json.loads(results)"
   ]
  },
  {
   "cell_type": "code",
   "execution_count": null,
   "id": "26ddf538",
   "metadata": {},
   "outputs": [],
   "source": [
    "with open(\"data/processed_notes/diabetic_ketoacidosis.json\", \"w\") as f:\n",
    "    json.dump(result_json, f)"
   ]
  },
  {
   "cell_type": "markdown",
   "id": "da1a7a7f",
   "metadata": {},
   "source": [
    "# 3. Run discharge checks\n",
    "Demo code for [I Built a Local Clinical AI Agent from Scratch - Here's How]()"
   ]
  },
  {
   "cell_type": "code",
   "execution_count": 1,
   "id": "87c4c00b",
   "metadata": {},
   "outputs": [],
   "source": [
    "import json\n",
    "\n",
    "with open(\"data/processed_notes/upper_gi_bleed.json\", \"r\") as f:\n",
    "    result_json = json.load(f)"
   ]
  },
  {
   "cell_type": "code",
   "execution_count": 2,
   "id": "ec0c5b89",
   "metadata": {},
   "outputs": [
    {
     "data": {
      "text/plain": [
       "{'discharge_date': '2024-08-25',\n",
       " 'chief_complaint': 'Black tarry stools',\n",
       " 'primary_discharge_diagnosis': 'Upper GI bleeding 2/2 duodenal ulcer, acute blood loss anemia',\n",
       " 'procedures_performed': ['EGD with thermal therapy to bleeding duodenal ulcer'],\n",
       " 'discharge_condition': {'mental_status': 'Clear and coherent',\n",
       "  'consciousness_level': 'Alert and interactive',\n",
       "  'activity_status': 'Ambulatory - independent'},\n",
       " 'discharge_disposition': 'Home',\n",
       " 'medication_changes': {'new_medications': [{'name': 'Omeprazole',\n",
       "    'dose': '40mg',\n",
       "    'frequency': 'PO BID'},\n",
       "   {'name': 'Sucralfate', 'dose': '1g', 'frequency': 'PO QID'},\n",
       "   {'name': 'Iron sulfate', 'dose': '325mg', 'frequency': 'PO daily'},\n",
       "   {'name': 'Acetaminophen', 'dose': '650mg', 'frequency': 'PO Q6H PRN pain'}],\n",
       "  'dose_changes': []},\n",
       " 'follow_up_appointments': [{'provider': 'Andrew Peterson',\n",
       "   'specialty': 'GI',\n",
       "   'date': '2024-09-05',\n",
       "   'time': '2:15 PM'},\n",
       "  {'provider': '', 'specialty': '', 'date': '2024-10-18', 'time': '11:00 AM'}],\n",
       " 'most_recent_labs': [{'name': 'Hgb', 'value': '10.2', 'date': '2024-08-24'},\n",
       "  {'name': 'Hct', 'value': '31%', 'date': '2024-08-24'},\n",
       "  {'name': 'Plt', 'value': '245', 'date': '2024-08-24'},\n",
       "  {'name': 'BUN', 'value': '25', 'date': '2024-08-24'},\n",
       "  {'name': 'Cr', 'value': '1.1', 'date': '2024-08-24'}]}"
      ]
     },
     "execution_count": 2,
     "metadata": {},
     "output_type": "execute_result"
    }
   ],
   "source": [
    "result_json"
   ]
  },
  {
   "cell_type": "code",
   "execution_count": 5,
   "id": "2520d39a",
   "metadata": {},
   "outputs": [
    {
     "name": "stdout",
     "output_type": "stream",
     "text": [
      "{'function': {'name': 'flag_labs', 'arguments': {'labs': [{'date': '2024-08-24', 'name': 'Hgb', 'value': '10.2'}, {'date': '2024-08-24', 'name': 'Hct', 'value': '31%'}, {'date': '2024-08-24', 'name': 'Plt', 'value': '245'}, {'date': '2024-08-24', 'name': 'BUN', 'value': '25'}, {'date': '2024-08-24', 'name': 'Cr', 'value': '1.1'}]}}}\n",
      "{'function': {'name': 'umls_normalize', 'arguments': {'terms': ['Upper gastrointestinal bleeding', 'duodenal ulcer', 'acute blood loss anemia']}}}\n",
      "{'function': {'name': 'followup_gap', 'arguments': {'appts': [{'date': '2024-09-05', 'provider': 'Andrew Peterson', 'specialty': 'GI', 'time': '2:15 PM'}, {'date': '2024-10-18', 'provider': '', 'specialty': '', 'time': '11:00 AM'}], 'discharge_date': '2024-08-25'}}}\n",
      "{ \"ready\": false, \"reasons\": [\"Abnormal labs: Hgb low, Hct low, BUN high\", \"Follow-up appointment >7 days\"], \"summary\": { \"labs\": { \"abnormal\": [ { \"name_input\": \"Hgb\", \"name_norm\": \"hemoglobin\", \"value\": \"10.2\", \"value_num\": 10.2, \"ref_range\": \"12.0-16.0\", \"status\": \"low\" }, { \"name_input\": \"Hct\", \"name_norm\": \"hematocrit\", \"value\": \"31%\", \"value_num\": 31.0, \"ref_range\": \"36.0-50.0\", \"status\": \"low\" }, { \"name_input\": \"BUN\", \"name_norm\": \"bun\", \"value\": \"25\", \"value_num\": 25.0, \"ref_range\": \"7.0-24.0\", \"status\": \"high\" } ], \"ok\": false }, \"followup\": { \"days_to_earliest_followup\": 11, \"meets_goal\": false }, \"meds\": { \"new_medications\": [ { \"name\": \"Omeprazole\", \"dose\": \"40mg\", \"frequency\": \"PO BID\" }, { \"name\": \"Sucralfate\", \"dose\": \"1g\", \"frequency\": \"PO QID\" }, { \"name\": \"Iron sulfate\", \"dose\": \"325mg\", \"frequency\": \"PO daily\" }, { \"name\": \"Acetaminophen\", \"dose\": \"650mg\", \"frequency\": \"PO Q6H PRN pain\" } ], \"dose_changes\": [] }, \"diagnoses\": { \"diagnoses\": [ { \"input\": \"Upper gastrointestinal bleeding\", \"cui\": \"C0041909\", \"pref_name\": \"Upper gastrointestinal hemorrhage\", \"semantic_types\": [ \"Pathologic Function\" ] }, { \"input\": \"duodenal ulcer\", \"cui\": \"C0013295\", \"pref_name\": \"Duodenal Ulcer\", \"semantic_types\": [ \"Disease or Syndrome\" ] }, { \"input\": \"acute blood loss anemia\", \"cui\": \"C0154286\", \"pref_name\": \"Iron deficiency anemia secondary to chronic blood loss\", \"semantic_types\": [ \"Disease or Syndrome\" ] } ] } } }\n"
     ]
    }
   ],
   "source": [
    "from discharge_agent.pipelines.discharge_checker import check_discharge_safety\n",
    "from discharge_agent.llm.prompts import get_messages\n",
    "\n",
    "messages = get_messages(result_json)\n",
    "final = check_discharge_safety(messages)"
   ]
  },
  {
   "cell_type": "code",
   "execution_count": 6,
   "id": "64b51b36",
   "metadata": {},
   "outputs": [
    {
     "data": {
      "text/plain": [
       "{'ready': False,\n",
       " 'reasons': ['Abnormal labs: Hgb low, Hct low, BUN high',\n",
       "  'Follow-up appointment >7 days'],\n",
       " 'summary': {'labs': {'abnormal': [{'name_input': 'Hgb',\n",
       "     'name_norm': 'hemoglobin',\n",
       "     'value': '10.2',\n",
       "     'value_num': 10.2,\n",
       "     'ref_range': '12.0-16.0',\n",
       "     'status': 'low'},\n",
       "    {'name_input': 'Hct',\n",
       "     'name_norm': 'hematocrit',\n",
       "     'value': '31%',\n",
       "     'value_num': 31.0,\n",
       "     'ref_range': '36.0-50.0',\n",
       "     'status': 'low'},\n",
       "    {'name_input': 'BUN',\n",
       "     'name_norm': 'bun',\n",
       "     'value': '25',\n",
       "     'value_num': 25.0,\n",
       "     'ref_range': '7.0-24.0',\n",
       "     'status': 'high'}],\n",
       "   'ok': False},\n",
       "  'followup': {'days_to_earliest_followup': 11, 'meets_goal': False},\n",
       "  'meds': {'new_medications': [{'name': 'Omeprazole',\n",
       "     'dose': '40mg',\n",
       "     'frequency': 'PO BID'},\n",
       "    {'name': 'Sucralfate', 'dose': '1g', 'frequency': 'PO QID'},\n",
       "    {'name': 'Iron sulfate', 'dose': '325mg', 'frequency': 'PO daily'},\n",
       "    {'name': 'Acetaminophen',\n",
       "     'dose': '650mg',\n",
       "     'frequency': 'PO Q6H PRN pain'}],\n",
       "   'dose_changes': []},\n",
       "  'diagnoses': {'diagnoses': [{'input': 'Upper gastrointestinal bleeding',\n",
       "     'cui': 'C0041909',\n",
       "     'pref_name': 'Upper gastrointestinal hemorrhage',\n",
       "     'semantic_types': ['Pathologic Function']},\n",
       "    {'input': 'duodenal ulcer',\n",
       "     'cui': 'C0013295',\n",
       "     'pref_name': 'Duodenal Ulcer',\n",
       "     'semantic_types': ['Disease or Syndrome']},\n",
       "    {'input': 'acute blood loss anemia',\n",
       "     'cui': 'C0154286',\n",
       "     'pref_name': 'Iron deficiency anemia secondary to chronic blood loss',\n",
       "     'semantic_types': ['Disease or Syndrome']}]}}}"
      ]
     },
     "execution_count": 6,
     "metadata": {},
     "output_type": "execute_result"
    }
   ],
   "source": [
    "json.loads(final)"
   ]
  }
 ],
 "metadata": {
  "kernelspec": {
   "display_name": "local_ai_medium",
   "language": "python",
   "name": "python3"
  },
  "language_info": {
   "codemirror_mode": {
    "name": "ipython",
    "version": 3
   },
   "file_extension": ".py",
   "mimetype": "text/x-python",
   "name": "python",
   "nbconvert_exporter": "python",
   "pygments_lexer": "ipython3",
   "version": "3.13.5"
  }
 },
 "nbformat": 4,
 "nbformat_minor": 5
}
